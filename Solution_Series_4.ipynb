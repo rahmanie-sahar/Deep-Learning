{
  "cells": [
    {
      "cell_type": "markdown",
      "id": "f56de225",
      "metadata": {
        "direction": "ltr",
        "id": "f56de225"
      },
      "source": [
        " <div style=\"direction:rtl\">\n",
        "حل تمارین سری 4 - Call Backs دوره جامع یادگیری عمیق - کلاس آقای اخوان پور <br>\n",
        "سحر رحمانی<br>\n",
        "بهار 1403 <br>"
      ]
    },
    {
      "cell_type": "code",
      "execution_count": 1,
      "id": "f068ef35",
      "metadata": {
        "id": "f068ef35"
      },
      "outputs": [],
      "source": [
        "import tensorflow as tf\n",
        "import keras\n",
        "from keras.models import Sequential\n",
        "from keras.layers import Dense, Flatten, Dropout, Conv2D, MaxPooling2D\n",
        "from keras.optimizers import Adam, SGD"
      ]
    },
    {
      "cell_type": "code",
      "execution_count": 2,
      "id": "2caee248",
      "metadata": {
        "id": "2caee248"
      },
      "outputs": [],
      "source": [
        "from dataset import load_hoda\n",
        "import numpy as np\n",
        "import datetime"
      ]
    },
    {
      "cell_type": "code",
      "execution_count": 3,
      "id": "ca0e1c23",
      "metadata": {
        "id": "ca0e1c23"
      },
      "outputs": [],
      "source": [
        "from keras.callbacks import Callback, TensorBoard"
      ]
    },
    {
      "cell_type": "code",
      "execution_count": 4,
      "id": "8687d869",
      "metadata": {
        "id": "8687d869"
      },
      "outputs": [],
      "source": [
        "from learningratefinder import LearningRateFinder"
      ]
    },
    {
      "cell_type": "code",
      "execution_count": 5,
      "id": "b84c65e7",
      "metadata": {
        "id": "b84c65e7"
      },
      "outputs": [],
      "source": [
        "#Loading data from load_data function\n",
        "x_train, y_train, x_test, y_test = load_hoda(32)"
      ]
    },
    {
      "cell_type": "code",
      "execution_count": 6,
      "id": "4f279e63",
      "metadata": {
        "id": "4f279e63"
      },
      "outputs": [],
      "source": [
        "#Normalizing x data\n",
        "x_train = x_train.astype('float32')\n",
        "x_test = x_test.astype('float32')\n",
        "x_train/= 255\n",
        "x_test/= 255"
      ]
    },
    {
      "cell_type": "code",
      "execution_count": 7,
      "id": "8af3842c",
      "metadata": {
        "id": "8af3842c"
      },
      "outputs": [],
      "source": [
        "#Reshaping x data\n",
        "x_train = x_train.reshape(-1,32,32,1)\n",
        "x_test= x_test.reshape(-1,32,32,1)"
      ]
    },
    {
      "cell_type": "code",
      "execution_count": 8,
      "id": "52e35b22",
      "metadata": {
        "id": "52e35b22"
      },
      "outputs": [],
      "source": [
        "#Building CNN Model\n",
        "model_hoda = Sequential()\n",
        "model_hoda.add(Conv2D(8, (3,3) , padding='same', activation = 'relu',  input_shape=(32,32,1)))\n",
        "model_hoda.add(Conv2D(16, (3,3) , padding='same', activation = 'relu'))\n",
        "model_hoda.add(MaxPooling2D())\n",
        "model_hoda.add(Conv2D(32, (3,3) , padding='same', activation = 'relu'))\n",
        "model_hoda.add(Conv2D(64, (3,3) , padding='same', activation = 'relu'))\n",
        "model_hoda.add(Flatten())\n",
        "model_hoda.add(Dropout(0.5))\n",
        "model_hoda.add(Dense(64, activation='relu'))\n",
        "model_hoda.add(Dropout(0.5))\n",
        "model_hoda.add(Dense(10, activation='softmax'))"
      ]
    },
    {
      "cell_type": "code",
      "execution_count": null,
      "id": "679bec31",
      "metadata": {
        "id": "679bec31"
      },
      "outputs": [],
      "source": [
        "#Compiling the Model\n",
        "model_hoda.compile(optimizer = 'adam' , loss = 'sparse_categorical_crossentropy' , metrics = ['acc'])"
      ]
    },
    {
      "cell_type": "markdown",
      "id": "39b068fe",
      "metadata": {
        "id": "39b068fe"
      },
      "source": [
        " <div style=\"direction:rtl\">\n",
        "پاسخ سوال اول"
      ]
    },
    {
      "cell_type": "code",
      "execution_count": null,
      "id": "638e5bb7",
      "metadata": {
        "id": "638e5bb7"
      },
      "outputs": [],
      "source": [
        "#Creating the path of the tensorboard's logs\n",
        "log = \"./logs/hoda/\" + datetime.datetime.now().strftime(\"%y%m%d-%H%M%S\")\n",
        "#creating an object of tensorboard with the path we made\n",
        "tensorcall = TensorBoard(log , histogram_freq=1)"
      ]
    },
    {
      "cell_type": "code",
      "execution_count": null,
      "id": "236574fb",
      "metadata": {
        "id": "236574fb",
        "outputId": "bfc67e0e-d413-4e8f-e3a1-8ce9f930a55f"
      },
      "outputs": [
        {
          "name": "stdout",
          "output_type": "stream",
          "text": [
            "Epoch 1/20\n",
            "\u001b[1m50/50\u001b[0m \u001b[32m━━━━━━━━━━━━━━━━━━━━\u001b[0m\u001b[37m\u001b[0m \u001b[1m2s\u001b[0m 21ms/step - acc: 0.3299 - loss: 1.8286 - val_acc: 0.8700 - val_loss: 0.4556\n",
            "Epoch 2/20\n",
            "\u001b[1m50/50\u001b[0m \u001b[32m━━━━━━━━━━━━━━━━━━━━\u001b[0m\u001b[37m\u001b[0m \u001b[1m1s\u001b[0m 17ms/step - acc: 0.7759 - loss: 0.6892 - val_acc: 0.9150 - val_loss: 0.2964\n",
            "Epoch 3/20\n",
            "\u001b[1m50/50\u001b[0m \u001b[32m━━━━━━━━━━━━━━━━━━━━\u001b[0m\u001b[37m\u001b[0m \u001b[1m1s\u001b[0m 17ms/step - acc: 0.8836 - loss: 0.3840 - val_acc: 0.9300 - val_loss: 0.1898\n",
            "Epoch 4/20\n",
            "\u001b[1m50/50\u001b[0m \u001b[32m━━━━━━━━━━━━━━━━━━━━\u001b[0m\u001b[37m\u001b[0m \u001b[1m1s\u001b[0m 18ms/step - acc: 0.9112 - loss: 0.3310 - val_acc: 0.9350 - val_loss: 0.2332\n",
            "Epoch 5/20\n",
            "\u001b[1m50/50\u001b[0m \u001b[32m━━━━━━━━━━━━━━━━━━━━\u001b[0m\u001b[37m\u001b[0m \u001b[1m1s\u001b[0m 19ms/step - acc: 0.9289 - loss: 0.2438 - val_acc: 0.9500 - val_loss: 0.2132\n",
            "Epoch 6/20\n",
            "\u001b[1m50/50\u001b[0m \u001b[32m━━━━━━━━━━━━━━━━━━━━\u001b[0m\u001b[37m\u001b[0m \u001b[1m1s\u001b[0m 18ms/step - acc: 0.9285 - loss: 0.2036 - val_acc: 0.9650 - val_loss: 0.1570\n",
            "Epoch 7/20\n",
            "\u001b[1m50/50\u001b[0m \u001b[32m━━━━━━━━━━━━━━━━━━━━\u001b[0m\u001b[37m\u001b[0m \u001b[1m1s\u001b[0m 18ms/step - acc: 0.9411 - loss: 0.1724 - val_acc: 0.9600 - val_loss: 0.1791\n",
            "Epoch 8/20\n",
            "\u001b[1m50/50\u001b[0m \u001b[32m━━━━━━━━━━━━━━━━━━━━\u001b[0m\u001b[37m\u001b[0m \u001b[1m1s\u001b[0m 16ms/step - acc: 0.9500 - loss: 0.1354 - val_acc: 0.9600 - val_loss: 0.1977\n",
            "Epoch 9/20\n",
            "\u001b[1m50/50\u001b[0m \u001b[32m━━━━━━━━━━━━━━━━━━━━\u001b[0m\u001b[37m\u001b[0m \u001b[1m1s\u001b[0m 17ms/step - acc: 0.9427 - loss: 0.1405 - val_acc: 0.9550 - val_loss: 0.2093\n",
            "Epoch 10/20\n",
            "\u001b[1m50/50\u001b[0m \u001b[32m━━━━━━━━━━━━━━━━━━━━\u001b[0m\u001b[37m\u001b[0m \u001b[1m1s\u001b[0m 17ms/step - acc: 0.9560 - loss: 0.1287 - val_acc: 0.9550 - val_loss: 0.1823\n",
            "Epoch 11/20\n",
            "\u001b[1m50/50\u001b[0m \u001b[32m━━━━━━━━━━━━━━━━━━━━\u001b[0m\u001b[37m\u001b[0m \u001b[1m1s\u001b[0m 17ms/step - acc: 0.9683 - loss: 0.1037 - val_acc: 0.9550 - val_loss: 0.1744\n",
            "Epoch 12/20\n",
            "\u001b[1m50/50\u001b[0m \u001b[32m━━━━━━━━━━━━━━━━━━━━\u001b[0m\u001b[37m\u001b[0m \u001b[1m1s\u001b[0m 18ms/step - acc: 0.9504 - loss: 0.1153 - val_acc: 0.9600 - val_loss: 0.1553\n",
            "Epoch 13/20\n",
            "\u001b[1m50/50\u001b[0m \u001b[32m━━━━━━━━━━━━━━━━━━━━\u001b[0m\u001b[37m\u001b[0m \u001b[1m1s\u001b[0m 17ms/step - acc: 0.9780 - loss: 0.0626 - val_acc: 0.9650 - val_loss: 0.1841\n",
            "Epoch 14/20\n",
            "\u001b[1m50/50\u001b[0m \u001b[32m━━━━━━━━━━━━━━━━━━━━\u001b[0m\u001b[37m\u001b[0m \u001b[1m1s\u001b[0m 18ms/step - acc: 0.9627 - loss: 0.0985 - val_acc: 0.9600 - val_loss: 0.1922\n",
            "Epoch 15/20\n",
            "\u001b[1m50/50\u001b[0m \u001b[32m━━━━━━━━━━━━━━━━━━━━\u001b[0m\u001b[37m\u001b[0m \u001b[1m1s\u001b[0m 18ms/step - acc: 0.9778 - loss: 0.0701 - val_acc: 0.9600 - val_loss: 0.1779\n",
            "Epoch 16/20\n",
            "\u001b[1m50/50\u001b[0m \u001b[32m━━━━━━━━━━━━━━━━━━━━\u001b[0m\u001b[37m\u001b[0m \u001b[1m1s\u001b[0m 18ms/step - acc: 0.9811 - loss: 0.0553 - val_acc: 0.9550 - val_loss: 0.2357\n",
            "Epoch 17/20\n",
            "\u001b[1m50/50\u001b[0m \u001b[32m━━━━━━━━━━━━━━━━━━━━\u001b[0m\u001b[37m\u001b[0m \u001b[1m1s\u001b[0m 17ms/step - acc: 0.9819 - loss: 0.0732 - val_acc: 0.9600 - val_loss: 0.2592\n",
            "Epoch 18/20\n",
            "\u001b[1m50/50\u001b[0m \u001b[32m━━━━━━━━━━━━━━━━━━━━\u001b[0m\u001b[37m\u001b[0m \u001b[1m1s\u001b[0m 18ms/step - acc: 0.9682 - loss: 0.0836 - val_acc: 0.9550 - val_loss: 0.2271\n",
            "Epoch 19/20\n",
            "\u001b[1m50/50\u001b[0m \u001b[32m━━━━━━━━━━━━━━━━━━━━\u001b[0m\u001b[37m\u001b[0m \u001b[1m1s\u001b[0m 18ms/step - acc: 0.9805 - loss: 0.0536 - val_acc: 0.9550 - val_loss: 0.2733\n",
            "Epoch 20/20\n",
            "\u001b[1m50/50\u001b[0m \u001b[32m━━━━━━━━━━━━━━━━━━━━\u001b[0m\u001b[37m\u001b[0m \u001b[1m1s\u001b[0m 17ms/step - acc: 0.9804 - loss: 0.0509 - val_acc: 0.9450 - val_loss: 0.3133\n"
          ]
        },
        {
          "data": {
            "text/plain": [
              "<keras.src.callbacks.history.History at 0x74854956c890>"
            ]
          },
          "execution_count": 10,
          "metadata": {},
          "output_type": "execute_result"
        }
      ],
      "source": [
        "#Fitting the Model\n",
        "model_hoda.fit(x_train, y_train, batch_size=16 , epochs= 20, validation_split=0.2 , callbacks = [tensorcall])"
      ]
    },
    {
      "cell_type": "markdown",
      "id": "bdeaf565",
      "metadata": {
        "id": "bdeaf565"
      },
      "source": [
        " <div style=\"direction:rtl\">\n",
        "پاسخ سوال دوم"
      ]
    },
    {
      "cell_type": "code",
      "execution_count": 9,
      "id": "35f3bcf1",
      "metadata": {
        "id": "35f3bcf1"
      },
      "outputs": [],
      "source": [
        "MIN_LR = 1e-5"
      ]
    },
    {
      "cell_type": "code",
      "execution_count": 10,
      "id": "e2ba2124",
      "metadata": {
        "id": "e2ba2124"
      },
      "outputs": [],
      "source": [
        "opt = SGD(learning_rate = MIN_LR, momentum=0.9)"
      ]
    },
    {
      "cell_type": "code",
      "execution_count": 11,
      "id": "df2fbf6d",
      "metadata": {
        "id": "df2fbf6d"
      },
      "outputs": [],
      "source": [
        "model_hoda.compile(optimizer=opt,loss='sparse_categorical_crossentropy', metrics=['accuracy'])"
      ]
    },
    {
      "cell_type": "code",
      "execution_count": 12,
      "id": "2f9e2863",
      "metadata": {
        "id": "2f9e2863"
      },
      "outputs": [],
      "source": [
        "lrf = LearningRateFinder(model_hoda)"
      ]
    },
    {
      "cell_type": "code",
      "execution_count": 13,
      "id": "24c00e6d",
      "metadata": {
        "colab": {
          "base_uri": "https://localhost:8080/"
        },
        "id": "24c00e6d",
        "outputId": "af220246-2821-45de-ac70-dd6fd70443c7"
      },
      "outputs": [
        {
          "output_type": "execute_result",
          "data": {
            "text/plain": [
              "(1000, 32, 32)"
            ]
          },
          "metadata": {},
          "execution_count": 13
        }
      ],
      "source": [
        "x_train = x_train.reshape(-1,32,32)\n",
        "x_train.shape"
      ]
    },
    {
      "cell_type": "code",
      "execution_count": 14,
      "id": "f4fdd0ed",
      "metadata": {
        "colab": {
          "base_uri": "https://localhost:8080/"
        },
        "id": "f4fdd0ed",
        "outputId": "b77568e2-34a0-448d-e65a-72bc0f942766"
      },
      "outputs": [
        {
          "output_type": "stream",
          "name": "stdout",
          "text": [
            "Epoch 1/64\n",
            "32/32 [==============================] - 3s 75ms/step - loss: 2.2998 - accuracy: 0.1030\n",
            "Epoch 2/64\n",
            "32/32 [==============================] - 3s 86ms/step - loss: 2.3023 - accuracy: 0.0970\n",
            "Epoch 3/64\n",
            "32/32 [==============================] - 4s 124ms/step - loss: 2.3033 - accuracy: 0.1050\n",
            "Epoch 4/64\n",
            "32/32 [==============================] - 2s 77ms/step - loss: 2.2997 - accuracy: 0.1020\n",
            "Epoch 5/64\n",
            "32/32 [==============================] - 2s 74ms/step - loss: 2.2993 - accuracy: 0.1090\n",
            "Epoch 6/64\n",
            "32/32 [==============================] - 2s 75ms/step - loss: 2.3033 - accuracy: 0.0960\n",
            "Epoch 7/64\n",
            "32/32 [==============================] - 3s 78ms/step - loss: 2.3011 - accuracy: 0.1090\n",
            "Epoch 8/64\n",
            "32/32 [==============================] - 5s 153ms/step - loss: 2.3028 - accuracy: 0.0990\n",
            "Epoch 9/64\n",
            "32/32 [==============================] - 2s 74ms/step - loss: 2.3014 - accuracy: 0.1160\n",
            "Epoch 10/64\n",
            "32/32 [==============================] - 2s 75ms/step - loss: 2.3005 - accuracy: 0.1110\n",
            "Epoch 11/64\n",
            "32/32 [==============================] - 2s 77ms/step - loss: 2.3002 - accuracy: 0.1100\n",
            "Epoch 12/64\n",
            "32/32 [==============================] - 2s 77ms/step - loss: 2.3033 - accuracy: 0.0960\n",
            "Epoch 13/64\n",
            "32/32 [==============================] - 4s 122ms/step - loss: 2.3031 - accuracy: 0.1060\n",
            "Epoch 14/64\n",
            "32/32 [==============================] - 2s 76ms/step - loss: 2.3029 - accuracy: 0.1010\n",
            "Epoch 15/64\n",
            "32/32 [==============================] - 2s 77ms/step - loss: 2.3017 - accuracy: 0.0950\n",
            "Epoch 16/64\n",
            "32/32 [==============================] - 3s 78ms/step - loss: 2.3021 - accuracy: 0.1000\n",
            "Epoch 17/64\n",
            "32/32 [==============================] - 2s 77ms/step - loss: 2.3032 - accuracy: 0.1050\n",
            "Epoch 18/64\n",
            "32/32 [==============================] - 4s 129ms/step - loss: 2.2982 - accuracy: 0.1070\n",
            "Epoch 19/64\n",
            "32/32 [==============================] - 2s 76ms/step - loss: 2.3017 - accuracy: 0.1120\n",
            "Epoch 20/64\n",
            "32/32 [==============================] - 2s 77ms/step - loss: 2.3025 - accuracy: 0.1150\n",
            "Epoch 21/64\n",
            "32/32 [==============================] - 3s 79ms/step - loss: 2.3016 - accuracy: 0.1150\n",
            "Epoch 22/64\n",
            "32/32 [==============================] - 2s 77ms/step - loss: 2.3012 - accuracy: 0.1120\n",
            "Epoch 23/64\n",
            "32/32 [==============================] - 4s 125ms/step - loss: 2.3029 - accuracy: 0.1020\n",
            "Epoch 24/64\n",
            "32/32 [==============================] - 3s 81ms/step - loss: 2.3045 - accuracy: 0.0890\n",
            "Epoch 25/64\n",
            "32/32 [==============================] - 2s 77ms/step - loss: 2.3018 - accuracy: 0.1000\n",
            "Epoch 26/64\n",
            "32/32 [==============================] - 3s 78ms/step - loss: 2.3026 - accuracy: 0.1040\n",
            "Epoch 27/64\n",
            "32/32 [==============================] - 2s 75ms/step - loss: 2.3018 - accuracy: 0.1120\n",
            "Epoch 28/64\n",
            "32/32 [==============================] - 4s 125ms/step - loss: 2.3009 - accuracy: 0.0950\n",
            "Epoch 29/64\n",
            "32/32 [==============================] - 3s 83ms/step - loss: 2.3013 - accuracy: 0.1110\n",
            "Epoch 30/64\n",
            "32/32 [==============================] - 2s 77ms/step - loss: 2.2999 - accuracy: 0.1080\n",
            "Epoch 31/64\n",
            "32/32 [==============================] - 2s 77ms/step - loss: 2.3003 - accuracy: 0.1150\n",
            "Epoch 32/64\n",
            "32/32 [==============================] - 2s 76ms/step - loss: 2.2978 - accuracy: 0.1170\n",
            "Epoch 33/64\n",
            "32/32 [==============================] - 4s 122ms/step - loss: 2.2980 - accuracy: 0.1030\n",
            "Epoch 34/64\n",
            "32/32 [==============================] - 3s 89ms/step - loss: 2.2946 - accuracy: 0.1200\n",
            "Epoch 35/64\n",
            "32/32 [==============================] - 2s 75ms/step - loss: 2.2916 - accuracy: 0.1220\n",
            "Epoch 36/64\n",
            "32/32 [==============================] - 2s 77ms/step - loss: 2.2880 - accuracy: 0.1290\n",
            "Epoch 37/64\n",
            "32/32 [==============================] - 2s 77ms/step - loss: 2.2825 - accuracy: 0.1340\n",
            "Epoch 38/64\n",
            "32/32 [==============================] - 3s 107ms/step - loss: 2.2716 - accuracy: 0.1530\n",
            "Epoch 39/64\n",
            "32/32 [==============================] - 3s 98ms/step - loss: 2.2462 - accuracy: 0.1750\n",
            "Epoch 40/64\n",
            "32/32 [==============================] - 2s 78ms/step - loss: 2.1716 - accuracy: 0.2130\n",
            "Epoch 41/64\n",
            "32/32 [==============================] - 2s 75ms/step - loss: 1.8530 - accuracy: 0.3760\n",
            "Epoch 42/64\n",
            "32/32 [==============================] - 2s 74ms/step - loss: 1.1839 - accuracy: 0.6120\n",
            "Epoch 43/64\n",
            "32/32 [==============================] - 3s 98ms/step - loss: 0.8195 - accuracy: 0.7350\n",
            "Epoch 44/64\n",
            "32/32 [==============================] - 4s 109ms/step - loss: 0.6546 - accuracy: 0.7950\n",
            "Epoch 45/64\n",
            "32/32 [==============================] - 2s 74ms/step - loss: 0.4866 - accuracy: 0.8410\n",
            "Epoch 46/64\n",
            "32/32 [==============================] - 2s 78ms/step - loss: 0.4845 - accuracy: 0.8520\n",
            "Epoch 47/64\n",
            "32/32 [==============================] - 2s 77ms/step - loss: 0.4556 - accuracy: 0.8530\n",
            "Epoch 48/64\n",
            "32/32 [==============================] - 3s 91ms/step - loss: 0.4353 - accuracy: 0.8690\n",
            "Epoch 49/64\n",
            "32/32 [==============================] - 4s 115ms/step - loss: 0.4264 - accuracy: 0.8590\n",
            "Epoch 50/64\n",
            "32/32 [==============================] - 2s 74ms/step - loss: 0.3826 - accuracy: 0.8800\n",
            "Epoch 51/64\n",
            "32/32 [==============================] - 2s 74ms/step - loss: 0.5771 - accuracy: 0.8510\n",
            "Epoch 52/64\n",
            "32/32 [==============================] - 2s 76ms/step - loss: 0.8622 - accuracy: 0.7250\n",
            "Epoch 53/64\n",
            "32/32 [==============================] - 2s 76ms/step - loss: 2.1905 - accuracy: 0.3430\n",
            "Epoch 54/64\n",
            "32/32 [==============================] - 2s 58ms/step - loss: 2.3120 - accuracy: 0.1000\n"
          ]
        }
      ],
      "source": [
        "lrf.find((x_train, y_train),1e-10, 1e+1)"
      ]
    },
    {
      "cell_type": "code",
      "execution_count": 15,
      "id": "66cbad60",
      "metadata": {
        "colab": {
          "base_uri": "https://localhost:8080/",
          "height": 454
        },
        "id": "66cbad60",
        "outputId": "58d7a248-3d4a-4059-d8bc-25ff64a1cee9"
      },
      "outputs": [
        {
          "output_type": "display_data",
          "data": {
            "text/plain": [
              "<Figure size 640x480 with 1 Axes>"
            ],
            "image/png": "[encoded data removed]"
          },
          "metadata": {}
        }
      ],
      "source": [
        "\n",
        "lrf.plot_loss()"
      ]
    },
    {
      "cell_type": "markdown",
      "id": "f9cfb3b8",
      "metadata": {
        "id": "f9cfb3b8"
      },
      "source": [
        " <div style=\"direction:rtl\">\n",
        "پاسخ سوال سوم"
      ]
    },
    {
      "cell_type": "code",
      "execution_count": null,
      "id": "aca7b074",
      "metadata": {
        "id": "aca7b074"
      },
      "outputs": [],
      "source": [
        "#Defining costum callback\n",
        "class validto75callback(Callback):\n",
        "    def on_epoch_end(self, epoch, logs):\n",
        "        if(logs.get('val_acc') > 0.75):\n",
        "            print(\"accuracy got 75 !\")\n",
        "            self.model.stop_training = True\n",
        "\n",
        "validto75callback = validto75callback()"
      ]
    },
    {
      "cell_type": "code",
      "execution_count": null,
      "id": "973ae744",
      "metadata": {
        "id": "973ae744",
        "outputId": "246cbb57-1b5d-400d-fc1b-8fb3d3e7642d"
      },
      "outputs": [
        {
          "name": "stdout",
          "output_type": "stream",
          "text": [
            "Epoch 1/20\n",
            "\u001b[1m49/50\u001b[0m \u001b[32m━━━━━━━━━━━━━━━━━━━\u001b[0m\u001b[37m━\u001b[0m \u001b[1m0s\u001b[0m 13ms/step - acc: 0.7794 - loss: 0.7519accuracy got 75 !\n",
            "\u001b[1m50/50\u001b[0m \u001b[32m━━━━━━━━━━━━━━━━━━━━\u001b[0m\u001b[37m\u001b[0m \u001b[1m1s\u001b[0m 14ms/step - acc: 0.7793 - loss: 0.7489 - val_acc: 0.8950 - val_loss: 0.3261\n"
          ]
        },
        {
          "data": {
            "text/plain": [
              "<keras.src.callbacks.history.History at 0x77769837c390>"
            ]
          },
          "execution_count": 47,
          "metadata": {},
          "output_type": "execute_result"
        }
      ],
      "source": [
        "model_hoda.fit(x_train, y_train, batch_size=16 , epochs= 20, validation_split=0.2 , callbacks = [validto75callback])"
      ]
    },
    {
      "cell_type": "code",
      "execution_count": null,
      "id": "ce0e5b7b",
      "metadata": {
        "id": "ce0e5b7b"
      },
      "outputs": [],
      "source": []
    }
  ],
  "metadata": {
    "kernelspec": {
      "display_name": "Python 3 (ipykernel)",
      "language": "python",
      "name": "python3"
    },
    "language_info": {
      "codemirror_mode": {
        "name": "ipython",
        "version": 3
      },
      "file_extension": ".py",
      "mimetype": "text/x-python",
      "name": "python",
      "nbconvert_exporter": "python",
      "pygments_lexer": "ipython3",
      "version": "3.11.5"
    },
    "colab": {
      "provenance": []
    }
  },
  "nbformat": 4,
  "nbformat_minor": 5
}