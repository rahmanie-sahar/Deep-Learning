{
 "cells": [
  {
   "cell_type": "code",
   "execution_count": 2,
   "metadata": {},
   "outputs": [
    {
     "name": "stderr",
     "output_type": "stream",
     "text": [
      "2024-05-18 19:19:08.666295: I tensorflow/core/util/port.cc:113] oneDNN custom operations are on. You may see slightly different numerical results due to floating-point round-off errors from different computation orders. To turn them off, set the environment variable `TF_ENABLE_ONEDNN_OPTS=0`.\n",
      "2024-05-18 19:19:08.666519: I external/local_tsl/tsl/cuda/cudart_stub.cc:32] Could not find cuda drivers on your machine, GPU will not be used.\n",
      "2024-05-18 19:19:08.668463: I external/local_tsl/tsl/cuda/cudart_stub.cc:32] Could not find cuda drivers on your machine, GPU will not be used.\n",
      "2024-05-18 19:19:08.692111: I tensorflow/core/platform/cpu_feature_guard.cc:210] This TensorFlow binary is optimized to use available CPU instructions in performance-critical operations.\n",
      "To enable the following instructions: AVX2 AVX_VNNI FMA, in other operations, rebuild TensorFlow with the appropriate compiler flags.\n",
      "2024-05-18 19:19:09.132610: W tensorflow/compiler/tf2tensorrt/utils/py_utils.cc:38] TF-TRT Warning: Could not find TensorRT\n"
     ]
    }
   ],
   "source": [
    "import tensorflow as tf\n",
    "import datetime"
   ]
  },
  {
   "cell_type": "code",
   "execution_count": 3,
   "metadata": {},
   "outputs": [],
   "source": [
    "mnist = tf.keras.datasets.fashion_mnist\n",
    "(x_train, y_train),(x_test, y_test) = mnist.load_data()\n",
    "x_train, x_test = x_train / 255.0, x_test / 255.0"
   ]
  },
  {
   "cell_type": "code",
   "execution_count": 6,
   "metadata": {},
   "outputs": [
    {
     "data": {
      "text/plain": [
       "9"
      ]
     },
     "execution_count": 6,
     "metadata": {},
     "output_type": "execute_result"
    }
   ],
   "source": [
    "y_test[0]"
   ]
  },
  {
   "cell_type": "code",
   "execution_count": 15,
   "metadata": {},
   "outputs": [],
   "source": [
    "class MyCustomCallback(tf.keras.callbacks.Callback):\n",
    "    \n",
    "    def on_train_begin(self, logs=None):\n",
    "        print(\"Training is started!\")\n",
    "    \n",
    "    def on_epoch_begin(self, epoch, logs=None):\n",
    "        print(\"-\"*50)\n",
    "        print(\"Epoch {} is started.\".format(epoch))\n",
    "    \n",
    "    def on_train_batch_begin(self, batch, logs=None):\n",
    "        if batch%100 ==0:\n",
    "            print('Training: batch {} begins'.format(batch))\n",
    "\n",
    "    def on_test_begin(self, logs=None):\n",
    "        print(\"*\"*50)\n",
    "        t= datetime.datetime.now().time()\n",
    "        print('Evaluation begins at {}'.format(t))\n",
    "                  \n",
    "    def on_test_end(self, logs=None):\n",
    "        t= datetime.datetime.now().time()\n",
    "        print('Evaluation finishes at {}'.format(t))"
   ]
  },
  {
   "cell_type": "code",
   "execution_count": 16,
   "metadata": {},
   "outputs": [],
   "source": [
    "my_callback = MyCustomCallback()"
   ]
  },
  {
   "cell_type": "code",
   "execution_count": 17,
   "metadata": {},
   "outputs": [
    {
     "name": "stdout",
     "output_type": "stream",
     "text": [
      "Training is started!\n",
      "--------------------------------------------------\n",
      "Epoch 0 is started.\n",
      "Training: batch 0 begins\n",
      "Training: batch 100 begins\n",
      "Training: batch 200 begins\n",
      "Training: batch 300 begins\n",
      "Training: batch 400 begins\n",
      "Training: batch 500 begins\n",
      "Training: batch 600 begins\n",
      "Training: batch 700 begins\n",
      "Training: batch 800 begins\n",
      "Training: batch 900 begins\n",
      "Training: batch 1000 begins\n",
      "Training: batch 1100 begins\n",
      "Training: batch 1200 begins\n",
      "Training: batch 1300 begins\n",
      "Training: batch 1400 begins\n",
      "**************************************************\n",
      "Evaluation begins at 17:55:15.485051\n",
      "Evaluation finishes at 17:55:16.575052\n",
      "--------------------------------------------------\n",
      "Epoch 1 is started.\n",
      "Training: batch 0 begins\n",
      "Training: batch 100 begins\n",
      "Training: batch 200 begins\n",
      "Training: batch 300 begins\n",
      "Training: batch 400 begins\n",
      "Training: batch 500 begins\n",
      "Training: batch 600 begins\n",
      "Training: batch 700 begins\n",
      "Training: batch 800 begins\n",
      "Training: batch 900 begins\n",
      "Training: batch 1000 begins\n",
      "Training: batch 1100 begins\n",
      "Training: batch 1200 begins\n",
      "Training: batch 1300 begins\n",
      "Training: batch 1400 begins\n",
      "**************************************************\n",
      "Evaluation begins at 17:55:22.552051\n",
      "Evaluation finishes at 17:55:23.574051\n",
      "--------------------------------------------------\n",
      "Epoch 2 is started.\n",
      "Training: batch 0 begins\n",
      "Training: batch 100 begins\n",
      "Training: batch 200 begins\n",
      "Training: batch 300 begins\n",
      "Training: batch 400 begins\n",
      "Training: batch 500 begins\n",
      "Training: batch 600 begins\n",
      "Training: batch 700 begins\n",
      "Training: batch 800 begins\n",
      "Training: batch 900 begins\n",
      "Training: batch 1000 begins\n",
      "Training: batch 1100 begins\n",
      "Training: batch 1200 begins\n",
      "Training: batch 1300 begins\n",
      "Training: batch 1400 begins\n",
      "**************************************************\n",
      "Evaluation begins at 17:55:29.554051\n",
      "Evaluation finishes at 17:55:30.558053\n"
     ]
    },
    {
     "data": {
      "text/plain": [
       "<tensorflow.python.keras.callbacks.History at 0x1bcb923fdd8>"
      ]
     },
     "execution_count": 17,
     "metadata": {},
     "output_type": "execute_result"
    }
   ],
   "source": [
    "model = tf.keras.models.Sequential([\n",
    "  tf.keras.layers.Flatten(input_shape=(28, 28)),\n",
    "  tf.keras.layers.Dense(512, activation=tf.nn.relu),\n",
    "  tf.keras.layers.Dense(10, activation=tf.nn.softmax)\n",
    "])\n",
    "model.compile(optimizer='adam',\n",
    "              loss='sparse_categorical_crossentropy',\n",
    "              metrics=['accuracy'])\n",
    "\n",
    "model.fit(x_train, y_train, epochs=3,validation_split=0.2,callbacks=[my_callback], verbose=0)"
   ]
  },
  {
   "cell_type": "code",
   "execution_count": null,
   "metadata": {},
   "outputs": [],
   "source": []
  }
 ],
 "metadata": {
  "kernelspec": {
   "display_name": "Python 3 (ipykernel)",
   "language": "python",
   "name": "python3"
  },
  "language_info": {
   "codemirror_mode": {
    "name": "ipython",
    "version": 3
   },
   "file_extension": ".py",
   "mimetype": "text/x-python",
   "name": "python",
   "nbconvert_exporter": "python",
   "pygments_lexer": "ipython3",
   "version": "3.11.5"
  }
 },
 "nbformat": 4,
 "nbformat_minor": 2
}
